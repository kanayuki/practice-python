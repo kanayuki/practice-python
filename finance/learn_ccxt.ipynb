{
 "cells": [
  {
   "cell_type": "code",
   "execution_count": 27,
   "metadata": {},
   "outputs": [],
   "source": [
    "import ccxt\n",
    "import random\n",
    "from pprint import pprint\n"
   ]
  },
  {
   "cell_type": "code",
   "execution_count": 17,
   "metadata": {},
   "outputs": [
    {
     "data": {
      "text/plain": [
       "['latoken',\n",
       " 'independentreserve',\n",
       " 'phemex',\n",
       " 'hollaex',\n",
       " 'bigone',\n",
       " 'bitflyer',\n",
       " 'cex',\n",
       " 'krakenfutures',\n",
       " 'hitbtc3',\n",
       " 'exmo']"
      ]
     },
     "execution_count": 17,
     "metadata": {},
     "output_type": "execute_result"
    }
   ],
   "source": [
    "random.choices(ccxt.exchanges, k=10)"
   ]
  },
  {
   "cell_type": "code",
   "execution_count": null,
   "metadata": {},
   "outputs": [],
   "source": [
    "ex = ccxt.okcoin()\n",
    "# ex.httpProxy = 'http://127.0.0.1:10809/'\n",
    "ex.httpsProxy = 'http://127.0.0.1:10809/'\n",
    "markets = ex.load_markets ()"
   ]
  },
  {
   "cell_type": "code",
   "execution_count": 22,
   "metadata": {},
   "outputs": [
    {
     "data": {
      "text/plain": [
       "dict_keys(['BTC/USD', 'ETH/USD', 'USDC/USDT', 'USDT/USD'])"
      ]
     },
     "execution_count": 22,
     "metadata": {},
     "output_type": "execute_result"
    }
   ],
   "source": [
    "markets.keys()"
   ]
  },
  {
   "cell_type": "code",
   "execution_count": 28,
   "metadata": {},
   "outputs": [
    {
     "name": "stdout",
     "output_type": "stream",
     "text": [
      "{'active': True,\n",
      " 'base': 'BTC',\n",
      " 'baseId': 'BTC',\n",
      " 'contract': False,\n",
      " 'contractSize': None,\n",
      " 'created': 1671521075000,\n",
      " 'expiry': None,\n",
      " 'expiryDatetime': None,\n",
      " 'future': False,\n",
      " 'id': 'BTC-USD',\n",
      " 'index': None,\n",
      " 'info': {'alias': '',\n",
      "          'baseCcy': 'BTC',\n",
      "          'category': '1',\n",
      "          'ctMult': '',\n",
      "          'ctType': '',\n",
      "          'ctVal': '',\n",
      "          'ctValCcy': '',\n",
      "          'expTime': '',\n",
      "          'instFamily': '',\n",
      "          'instId': 'BTC-USD',\n",
      "          'instType': 'SPOT',\n",
      "          'lever': '',\n",
      "          'listTime': '1671521075000',\n",
      "          'lotSz': '0.0001',\n",
      "          'maxIcebergSz': '99999999999999',\n",
      "          'maxLmtSz': '99999999999999',\n",
      "          'maxMktSz': '1000000',\n",
      "          'maxStopSz': '1000000',\n",
      "          'maxTriggerSz': '99999999999999',\n",
      "          'maxTwapSz': '99999999999999',\n",
      "          'minSz': '0.0001',\n",
      "          'optType': '',\n",
      "          'quoteCcy': 'USD',\n",
      "          'settleCcy': '',\n",
      "          'state': 'live',\n",
      "          'stk': '',\n",
      "          'tickSz': '0.01',\n",
      "          'uly': ''},\n",
      " 'inverse': None,\n",
      " 'limits': {'amount': {'max': None, 'min': 0.0001},\n",
      "            'cost': {'max': 1000000.0, 'min': None},\n",
      "            'leverage': {'max': 1.0, 'min': 1.0},\n",
      "            'price': {'max': None, 'min': None}},\n",
      " 'linear': None,\n",
      " 'lowercaseId': None,\n",
      " 'maker': 0.001,\n",
      " 'margin': False,\n",
      " 'option': False,\n",
      " 'optionType': None,\n",
      " 'percentage': True,\n",
      " 'precision': {'amount': 0.0001,\n",
      "               'base': None,\n",
      "               'cost': None,\n",
      "               'price': 0.01,\n",
      "               'quote': None},\n",
      " 'quote': 'USD',\n",
      " 'quoteId': 'USD',\n",
      " 'settle': None,\n",
      " 'settleId': None,\n",
      " 'spot': True,\n",
      " 'strike': None,\n",
      " 'subType': None,\n",
      " 'swap': False,\n",
      " 'symbol': 'BTC/USD',\n",
      " 'taker': 0.0015,\n",
      " 'type': 'spot'}\n"
     ]
    }
   ],
   "source": [
    "pprint(markets['BTC/USD'])"
   ]
  },
  {
   "cell_type": "code",
   "execution_count": 30,
   "metadata": {},
   "outputs": [
    {
     "name": "stdout",
     "output_type": "stream",
     "text": [
      "yuki BTC/USDT {}\n"
     ]
    },
    {
     "data": {
      "text/plain": [
       "'BTC/USDT'"
      ]
     },
     "execution_count": 30,
     "metadata": {},
     "output_type": "execute_result"
    }
   ],
   "source": [
    "\n",
    "def my_overload(symbol, params={}):\n",
    "    # your codes go here\n",
    "    print('yuki', symbol, params)\n",
    "    return symbol\n",
    "\n",
    "\n",
    "ex.fetch_ticker = my_overload\n",
    "ex.fetch_ticker('BTC/USDT')"
   ]
  },
  {
   "cell_type": "code",
   "execution_count": null,
   "metadata": {},
   "outputs": [],
   "source": [
    "ccxt.binance"
   ]
  }
 ],
 "metadata": {
  "kernelspec": {
   "display_name": "pytorch2",
   "language": "python",
   "name": "python3"
  },
  "language_info": {
   "codemirror_mode": {
    "name": "ipython",
    "version": 3
   },
   "file_extension": ".py",
   "mimetype": "text/x-python",
   "name": "python",
   "nbconvert_exporter": "python",
   "pygments_lexer": "ipython3",
   "version": "3.11.8"
  }
 },
 "nbformat": 4,
 "nbformat_minor": 2
}
